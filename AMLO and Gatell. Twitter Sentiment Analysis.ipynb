{
 "cells": [
  {
   "cell_type": "markdown",
   "metadata": {},
   "source": [
    "# AMLO and López-Gatell: Twitter Sentiment Analysis"
   ]
  },
  {
   "cell_type": "markdown",
   "metadata": {},
   "source": [
    "Constantino Carreto \n",
    "\n",
    "In this project I implement sentiment analysis for tweets mentioning **AMLO** or **López-Gatell**. I conected to twitter API on january saturday 9, 2021, at 19:30 - 23:30 hours, and downloaded tweets containing these words. I try to compare the posivite/negative feelings expressed in tweets mentioning _AMLO_ versus tweets mentioning _López-Gatell_ in order to verify whether _López-Gatell_, the Undersecretary of Prevention and Health Promotion is better evaluated by public opinion, compared to the president. \n",
    "\n",
    "Results show that: i) opinion for both subjects is negative during the daily Covid Conference, but when the conference ends, opinion improves; ii) opinion for _López-Gatell_ is highly correlated to opinion for the president. Nontheless, _López-Gatell_ scores better since during the analysis period, opinions for him are on average neutral, while opinios for the president are slightly negative."
   ]
  },
  {
   "cell_type": "code",
   "execution_count": 1,
   "metadata": {},
   "outputs": [
    {
     "name": "stdout",
     "output_type": "stream",
     "text": [
      "libraries imported\n"
     ]
    },
    {
     "name": "stderr",
     "output_type": "stream",
     "text": [
      "[nltk_data] Downloading package vader_lexicon to\n",
      "[nltk_data]     C:\\Users\\tino_\\AppData\\Roaming\\nltk_data...\n",
      "[nltk_data]   Package vader_lexicon is already up-to-date!\n"
     ]
    }
   ],
   "source": [
    "# libraries\n",
    "\n",
    "import os\n",
    "import pandas as pd\n",
    "import numpy as np\n",
    "import matplotlib.pyplot as plt\n",
    "from datetime import timedelta\n",
    "from datetime import time\n",
    "\n",
    "# for twitter\n",
    "from tweepy import OAuthHandler\n",
    "from tweepy import API\n",
    "\n",
    "# to instantiate the Stream object\n",
    "from tweepy import Stream\n",
    "\n",
    "# for the Slistener module:\n",
    "from tweepy.streaming import StreamListener\n",
    "import json\n",
    "import time\n",
    "import sys\n",
    "\n",
    "# Load SentimentIntensityAnalyzer (sentiment analysis)\n",
    "from nltk.sentiment.vader import SentimentIntensityAnalyzer\n",
    "import nltk\n",
    "nltk.download('vader_lexicon')\n",
    "\n",
    "# for the translator API\n",
    "import requests\n",
    "\n",
    "print('libraries imported')"
   ]
  },
  {
   "cell_type": "markdown",
   "metadata": {},
   "source": [
    "### Twitter Streaming"
   ]
  },
  {
   "cell_type": "code",
   "execution_count": 2,
   "metadata": {},
   "outputs": [],
   "source": [
    "# set working directory to save file\n",
    "default_wd=os.getcwd()\n",
    "os.chdir('F:/practicas_python/twitter_streaming')\n",
    "\n",
    "# Store OAuth authentication credentials in relevant variables\n",
    "# API_key\n",
    "# also referred as: consumer_key\n",
    "API_key='qMGXCULhq6Nrqb8aTY3PJLC3L'\n",
    "# API_key_secret\n",
    "# also referred as: consumer_secret\n",
    "API_key_secret='2WpN6dlycrdSUKjAIqxrfy0TVMzqUcvN3RaM5OJKFHbbe8a7tE'\n",
    "bearer_token='AAAAAAAAAAAAAAAAAAAAAEipGwEAAAAAITXMa%2FGRLqJGZ87cRRAQXMUGPGE%3DHUXoMQcC8N5sjtjqBcw85mCOiiFhX33IoZZB6Wo4UZnPE6Yxmz'\n",
    "access_token='2321809326-eeMt3d2qX1ZjbkCDkl9xqi74knYxicHkG6OC76l'\n",
    "access_token_secret='lG2EDsDFjydo2krZd165xdK78R9YYAntwEsCpRIsNQVuj'\n",
    "\n",
    "# Consumer key authentication\n",
    "auth = OAuthHandler(API_key, API_key_secret)\n",
    "\n",
    "# Access key authentication\n",
    "auth.set_access_token(access_token, access_token_secret)\n",
    "\n",
    "# Set up the API with the authentication handler\n",
    "api = API(auth)"
   ]
  },
  {
   "cell_type": "markdown",
   "metadata": {},
   "source": [
    "Define the SListener module."
   ]
  },
  {
   "cell_type": "code",
   "execution_count": 3,
   "metadata": {},
   "outputs": [],
   "source": [
    "class SListener(StreamListener):\n",
    "    def __init__(self, api = None, fprefix = 'streamer'):\n",
    "        self.api = api or API()\n",
    "        self.counter = 0\n",
    "        self.fprefix = fprefix\n",
    "        self.output  = open('%s_%s.json' % (self.fprefix, time.strftime('%Y%m%d-%H%M%S')), 'w')\n",
    "\n",
    "\n",
    "    def on_data(self, data):\n",
    "        if  'in_reply_to_status' in data:\n",
    "            self.on_status(data)\n",
    "        elif 'delete' in data:\n",
    "            delete = json.loads(data)['delete']['status']\n",
    "            if self.on_delete(delete['id'], delete['user_id']) is False:\n",
    "                return False\n",
    "        elif 'limit' in data:\n",
    "            if self.on_limit(json.loads(data)['limit']['track']) is False:\n",
    "                return False\n",
    "        elif 'warning' in data:\n",
    "            warning = json.loads(data)['warnings']\n",
    "            print(\"WARNING: %s\" % warning['message'])\n",
    "            return\n",
    "\n",
    "\n",
    "    def on_status(self, status):\n",
    "        self.output.write(status)\n",
    "        self.counter += 1\n",
    "        if self.counter >= 20000:\n",
    "            self.output.close()\n",
    "            self.output  = open('%s_%s.json' % (self.fprefix, time.strftime('%Y%m%d-%H%M%S')), 'w')\n",
    "            self.counter = 0\n",
    "        return\n",
    "\n",
    "\n",
    "    def on_delete(self, status_id, user_id):\n",
    "        print(\"Delete notice\")\n",
    "        return\n",
    "\n",
    "\n",
    "    def on_limit(self, track):\n",
    "        print(\"WARNING: Limitation notice received, tweets missed: %d\" % track)\n",
    "        return\n",
    "\n",
    "\n",
    "    def on_error(self, status_code):\n",
    "        print('Encountered error with status code:', status_code)\n",
    "        return \n",
    "\n",
    "\n",
    "    def on_timeout(self):\n",
    "        print(\"Timeout, sleeping for 60 seconds...\")\n",
    "        time.sleep(60)\n",
    "        return "
   ]
  },
  {
   "cell_type": "markdown",
   "metadata": {},
   "source": [
    "Start to Stream tweets"
   ]
  },
  {
   "cell_type": "code",
   "execution_count": 12,
   "metadata": {},
   "outputs": [],
   "source": [
    "# Set up words to track\n",
    "keywords_to_track = ['AMLO', 'amlo', 'López Obrador', 'López-Gatell', 'Gatell', 'gatell']\n",
    "\n",
    "# Instantiate the SListener object \n",
    "listen = SListener(api)\n",
    "\n",
    "# Instantiate the Stream object\n",
    "stream = Stream(auth, listen)\n",
    "\n",
    "# Begin collecting data\n",
    "stream.filter(track = keywords_to_track)\n",
    "\n",
    "## other options\n",
    "#stream.filter(track = keywords_to_track, languages=['es'])\n",
    "# go to: http://gettwitterid.com/\n",
    "#stream.filter(follow=[\"2321809326\"]) # Constantino\n",
    "# sample de todos los tweets existentes\n",
    "#stream.sample()"
   ]
  },
  {
   "cell_type": "markdown",
   "metadata": {},
   "source": [
    "### buliding the tweets database"
   ]
  },
  {
   "cell_type": "markdown",
   "metadata": {},
   "source": [
    "Since tweets contained in a file are stored as a single json file, we create a function that split those tweets and keep them in a list"
   ]
  },
  {
   "cell_type": "code",
   "execution_count": 4,
   "metadata": {},
   "outputs": [],
   "source": [
    "# functions that separate tweets\n",
    "def clean_list(raw_data):\n",
    "    '''\n",
    "    separate tweets and generate a list of dictionaries,\n",
    "    where every dictionary is a tweet\n",
    "    '''\n",
    "    files_list=[]\n",
    "    for archivo in raw_data:\n",
    "    \n",
    "        # leemos el archivo json arrojado por el streamer\n",
    "        with open(archivo,'r') as file:\n",
    "            read_file = file.read() \n",
    "        # limpiamos el archivo\n",
    "        read_file2=read_file.split('\\n')\n",
    "        tweets = []\n",
    "        for line in read_file2:\n",
    "            if len(line)!=0:\n",
    "                tweets.append(line)\n",
    "        # creamos lista con archivos json\n",
    "        tweets_json = []    \n",
    "        for line in tweets:\n",
    "            tweets_json.append(json.loads(line))\n",
    "        files_list.append(tweets_json)\n",
    "    # return the whole list\n",
    "    flat_list = [item for sublist in files_list for item in sublist]\n",
    "    return flat_list\n"
   ]
  },
  {
   "cell_type": "code",
   "execution_count": 5,
   "metadata": {},
   "outputs": [],
   "source": [
    "# define list of files to process\n",
    "# look for the names in your working directory\n",
    "lista_jsons=['streamer_20210109-193213.json',\n",
    "              'streamer_20210109-200143.json',\n",
    "              'streamer_20210109-200239.json']\n",
    "\n",
    "tweets_json = clean_list(lista_jsons)"
   ]
  },
  {
   "cell_type": "code",
   "execution_count": 6,
   "metadata": {},
   "outputs": [
    {
     "name": "stdout",
     "output_type": "stream",
     "text": [
      "file contains 19316 tweets\n"
     ]
    }
   ],
   "source": [
    "# how many tweets?\n",
    "print('file contains {} tweets'.format(len(tweets_json)))"
   ]
  },
  {
   "cell_type": "markdown",
   "metadata": {},
   "source": [
    "Let's see some features from a single tweet"
   ]
  },
  {
   "cell_type": "code",
   "execution_count": 7,
   "metadata": {},
   "outputs": [
    {
     "name": "stdout",
     "output_type": "stream",
     "text": [
      "Aquí va, esto es lo que yo no entiendo ... \n",
      "\n",
      "https://t.co/olfGY0c2aY\n",
      "\n",
      "Si amlo sabía desde hace mucho de esos delito… https://t.co/PRURfD2DbR \n",
      " ----------------\n",
      "Aquí va, esto es lo que yo no entiendo ... \n",
      "\n",
      "https://t.co/olfGY0c2aY\n",
      "\n",
      "Si amlo sabía desde hace mucho de esos delitos porque no denunció ?? Porque no hace nada ahora que es presidente ?? \n",
      "\n",
      "A mi me hace pensar o que es parte de eso o que es incompetente. \n",
      "------------------\n",
      "1348080195866140674\n"
     ]
    }
   ],
   "source": [
    "print(tweets_json[11]['text'], '\\n ----------------')\n",
    "print(tweets_json[11]['extended_tweet']['full_text'], '\\n------------------')\n",
    "print(tweets_json[11]['id'])"
   ]
  },
  {
   "cell_type": "code",
   "execution_count": 8,
   "metadata": {},
   "outputs": [
    {
     "name": "stdout",
     "output_type": "stream",
     "text": [
      "tamezjorge\n",
      "20804\n",
      "Donde haya WiFi Gratis\n",
      "Buscando el bien de nuestros semejantes, encontramos el nuestro - Platón. Si quieren cita con el Nutriologo porfa llamen al 8110423076 (Whatsapp)\n"
     ]
    }
   ],
   "source": [
    "# Print user handle\n",
    "print(tweets_json[11]['user']['screen_name'])\n",
    "# Print user follower count\n",
    "print(tweets_json[11]['user']['followers_count'])\n",
    "# Print user location\n",
    "print(tweets_json[11]['user']['location'])\n",
    "# Print user description\n",
    "print(tweets_json[11]['user']['description'])"
   ]
  },
  {
   "cell_type": "code",
   "execution_count": 9,
   "metadata": {},
   "outputs": [
    {
     "name": "stdout",
     "output_type": "stream",
     "text": [
      "@SinLinea_Mx Estos gobernadores prianistas parecen corderitos cuando tienen enfrente a AMLO. Tuve la oportunidad de… https://t.co/Xg6qP2tPkf\n"
     ]
    }
   ],
   "source": [
    "# Print the text of a tweet which has been retweeted\n",
    "print(tweets_json[14]['retweeted_status']['text'])"
   ]
  },
  {
   "cell_type": "code",
   "execution_count": 10,
   "metadata": {},
   "outputs": [
    {
     "name": "stdout",
     "output_type": "stream",
     "text": [
      "@o_cantu_70 @tamezjorge No pude haberlo dicho mejor.\n",
      "\n",
      "El tiempo pondrá a todos en su lugar... de hecho ya los está… https://t.co/Lcg3AFsRzO \n",
      "----------------\n",
      "@o_cantu_70 @tamezjorge No pude haberlo dicho mejor.\n",
      "\n",
      "El tiempo pondrá a todos en su lugar... de hecho ya los está poniendo, pero una lamentable combinacion de prejuicios e ignorancia que impiden ver la realidad y el potencial de Mexico, que no ha explotado por la gestión rapaz que hemos padecido, sigue \n",
      "----------------\n",
      "None\n"
     ]
    }
   ],
   "source": [
    "# Print a quoted tweet text\n",
    "print(tweets_json[11]['quoted_status']['text'], '\\n----------------')\n",
    "# Print the quoted tweet's extended (140+) text\n",
    "print(tweets_json[11]['quoted_status']['extended_tweet']['full_text'], '\\n----------------')\n",
    "# Print the quoted user location\n",
    "print(tweets_json[11]['quoted_status']['user']['location'])"
   ]
  },
  {
   "cell_type": "code",
   "execution_count": 11,
   "metadata": {},
   "outputs": [
    {
     "name": "stdout",
     "output_type": "stream",
     "text": [
      "created_at ::::::::::::::\n",
      "Sun Jan 10 01:32:19 +0000 2021\n",
      "id ::::::::::::::\n",
      "1348080195866140674\n",
      "id_str ::::::::::::::\n",
      "1348080195866140674\n",
      "text ::::::::::::::\n",
      "Aquí va, esto es lo que yo no entiendo ... \n",
      "\n",
      "https://t.co/olfGY0c2aY\n",
      "\n",
      "Si amlo sabía desde hace mucho de esos delito… https://t.co/PRURfD2DbR\n",
      "source ::::::::::::::\n",
      "<a href=\"http://twitter.com/download/iphone\" rel=\"nofollow\">Twitter for iPhone</a>\n",
      "truncated ::::::::::::::\n",
      "True\n",
      "in_reply_to_status_id ::::::::::::::\n",
      "None\n",
      "in_reply_to_status_id_str ::::::::::::::\n",
      "None\n",
      "in_reply_to_user_id ::::::::::::::\n",
      "None\n",
      "in_reply_to_user_id_str ::::::::::::::\n",
      "None\n",
      "in_reply_to_screen_name ::::::::::::::\n",
      "None\n",
      "user ::::::::::::::\n",
      "{'id': 158251941, 'id_str': '158251941', 'name': 'Jorge Tamez', 'screen_name': 'tamezjorge', 'location': 'Donde haya WiFi Gratis', 'url': 'http://www.zebien.com', 'description': 'Buscando el bien de nuestros semejantes, encontramos el nuestro - Platón. Si quieren cita con el Nutriologo porfa llamen al 8110423076 (Whatsapp)', 'translator_type': 'none', 'protected': False, 'verified': False, 'followers_count': 20804, 'friends_count': 1894, 'listed_count': 33, 'favourites_count': 9525, 'statuses_count': 93038, 'created_at': 'Tue Jun 22 05:09:42 +0000 2010', 'utc_offset': None, 'time_zone': None, 'geo_enabled': True, 'lang': None, 'contributors_enabled': False, 'is_translator': False, 'profile_background_color': 'C0DEED', 'profile_background_image_url': 'http://abs.twimg.com/images/themes/theme1/bg.png', 'profile_background_image_url_https': 'https://abs.twimg.com/images/themes/theme1/bg.png', 'profile_background_tile': False, 'profile_link_color': '0084B4', 'profile_sidebar_border_color': 'C0DEED', 'profile_sidebar_fill_color': 'DDEEF6', 'profile_text_color': '333333', 'profile_use_background_image': True, 'profile_image_url': 'http://pbs.twimg.com/profile_images/1040093191007961089/y_uZx3w__normal.jpg', 'profile_image_url_https': 'https://pbs.twimg.com/profile_images/1040093191007961089/y_uZx3w__normal.jpg', 'profile_banner_url': 'https://pbs.twimg.com/profile_banners/158251941/1471213413', 'default_profile': False, 'default_profile_image': False, 'following': None, 'follow_request_sent': None, 'notifications': None}\n",
      "geo ::::::::::::::\n",
      "None\n",
      "coordinates ::::::::::::::\n",
      "None\n",
      "place ::::::::::::::\n",
      "None\n",
      "contributors ::::::::::::::\n",
      "None\n",
      "quoted_status_id ::::::::::::::\n",
      "1348056137652953088\n",
      "quoted_status_id_str ::::::::::::::\n",
      "1348056137652953088\n",
      "quoted_status ::::::::::::::\n",
      "{'created_at': 'Sat Jan 09 23:56:43 +0000 2021', 'id': 1348056137652953088, 'id_str': '1348056137652953088', 'text': '@o_cantu_70 @tamezjorge No pude haberlo dicho mejor.\\n\\nEl tiempo pondrá a todos en su lugar... de hecho ya los está… https://t.co/Lcg3AFsRzO', 'display_text_range': [24, 140], 'source': '<a href=\"http://twitter.com/download/android\" rel=\"nofollow\">Twitter for Android</a>', 'truncated': True, 'in_reply_to_status_id': 1348048327041048578, 'in_reply_to_status_id_str': '1348048327041048578', 'in_reply_to_user_id': 189759205, 'in_reply_to_user_id_str': '189759205', 'in_reply_to_screen_name': 'o_cantu_70', 'user': {'id': 1209112011407278080, 'id_str': '1209112011407278080', 'name': 'Kinobecerra2', 'screen_name': 'kinobecerra2', 'location': None, 'url': None, 'description': None, 'translator_type': 'none', 'protected': False, 'verified': False, 'followers_count': 11, 'friends_count': 154, 'listed_count': 0, 'favourites_count': 434, 'statuses_count': 644, 'created_at': 'Mon Dec 23 14:02:33 +0000 2019', 'utc_offset': None, 'time_zone': None, 'geo_enabled': False, 'lang': None, 'contributors_enabled': False, 'is_translator': False, 'profile_background_color': 'F5F8FA', 'profile_background_image_url': '', 'profile_background_image_url_https': '', 'profile_background_tile': False, 'profile_link_color': '1DA1F2', 'profile_sidebar_border_color': 'C0DEED', 'profile_sidebar_fill_color': 'DDEEF6', 'profile_text_color': '333333', 'profile_use_background_image': True, 'profile_image_url': 'http://pbs.twimg.com/profile_images/1209112123873398789/yqU29aGo_normal.jpg', 'profile_image_url_https': 'https://pbs.twimg.com/profile_images/1209112123873398789/yqU29aGo_normal.jpg', 'default_profile': True, 'default_profile_image': False, 'following': None, 'follow_request_sent': None, 'notifications': None}, 'geo': None, 'coordinates': None, 'place': None, 'contributors': None, 'is_quote_status': False, 'extended_tweet': {'full_text': '@o_cantu_70 @tamezjorge No pude haberlo dicho mejor.\\n\\nEl tiempo pondrá a todos en su lugar... de hecho ya los está poniendo, pero una lamentable combinacion de prejuicios e ignorancia que impiden ver la realidad y el potencial de Mexico, que no ha explotado por la gestión rapaz que hemos padecido, sigue', 'display_text_range': [24, 304], 'entities': {'hashtags': [], 'urls': [], 'user_mentions': [{'screen_name': 'o_cantu_70', 'name': 'Omar', 'id': 189759205, 'id_str': '189759205', 'indices': [0, 11]}, {'screen_name': 'tamezjorge', 'name': 'Jorge Tamez', 'id': 158251941, 'id_str': '158251941', 'indices': [12, 23]}], 'symbols': []}}, 'quote_count': 0, 'reply_count': 0, 'retweet_count': 0, 'favorite_count': 0, 'entities': {'hashtags': [], 'urls': [{'url': 'https://t.co/Lcg3AFsRzO', 'expanded_url': 'https://twitter.com/i/web/status/1348056137652953088', 'display_url': 'twitter.com/i/web/status/1…', 'indices': [116, 139]}], 'user_mentions': [{'screen_name': 'o_cantu_70', 'name': 'Omar', 'id': 189759205, 'id_str': '189759205', 'indices': [0, 11]}, {'screen_name': 'tamezjorge', 'name': 'Jorge Tamez', 'id': 158251941, 'id_str': '158251941', 'indices': [12, 23]}], 'symbols': []}, 'favorited': False, 'retweeted': False, 'filter_level': 'low', 'lang': 'es'}\n",
      "quoted_status_permalink ::::::::::::::\n",
      "{'url': 'https://t.co/2nO3tZ76Y3', 'expanded': 'https://twitter.com/kinobecerra2/status/1348056137652953088', 'display': 'twitter.com/kinobecerra2/s…'}\n",
      "is_quote_status ::::::::::::::\n",
      "True\n",
      "extended_tweet ::::::::::::::\n",
      "{'full_text': 'Aquí va, esto es lo que yo no entiendo ... \\n\\nhttps://t.co/olfGY0c2aY\\n\\nSi amlo sabía desde hace mucho de esos delitos porque no denunció ?? Porque no hace nada ahora que es presidente ?? \\n\\nA mi me hace pensar o que es parte de eso o que es incompetente.', 'display_text_range': [0, 252], 'entities': {'hashtags': [], 'urls': [{'url': 'https://t.co/olfGY0c2aY', 'expanded_url': 'https://youtu.be/0NGhTHlC9Es', 'display_url': 'youtu.be/0NGhTHlC9Es', 'indices': [45, 68]}], 'user_mentions': [], 'symbols': []}}\n",
      "quote_count ::::::::::::::\n",
      "0\n",
      "reply_count ::::::::::::::\n",
      "0\n",
      "retweet_count ::::::::::::::\n",
      "0\n",
      "favorite_count ::::::::::::::\n",
      "0\n",
      "entities ::::::::::::::\n",
      "{'hashtags': [], 'urls': [{'url': 'https://t.co/olfGY0c2aY', 'expanded_url': 'https://youtu.be/0NGhTHlC9Es', 'display_url': 'youtu.be/0NGhTHlC9Es', 'indices': [45, 68]}, {'url': 'https://t.co/PRURfD2DbR', 'expanded_url': 'https://twitter.com/i/web/status/1348080195866140674', 'display_url': 'twitter.com/i/web/status/1…', 'indices': [117, 140]}], 'user_mentions': [], 'symbols': []}\n",
      "favorited ::::::::::::::\n",
      "False\n",
      "retweeted ::::::::::::::\n",
      "False\n",
      "possibly_sensitive ::::::::::::::\n",
      "False\n",
      "filter_level ::::::::::::::\n",
      "low\n",
      "lang ::::::::::::::\n",
      "es\n",
      "timestamp_ms ::::::::::::::\n",
      "1610242339470\n"
     ]
    }
   ],
   "source": [
    "# vemos los valores para cada llave un tweet especifico\n",
    "for key in tweets_json[11].keys():\n",
    "    print(key +' ::::::::::::::' +'\\n'+ str(tweets_json[11][key]))"
   ]
  },
  {
   "cell_type": "markdown",
   "metadata": {},
   "source": [
    "Now, let's flatten the tweets file, so every tweet's feature of interest is directly accesible in every tweet's dictionary  "
   ]
  },
  {
   "cell_type": "code",
   "execution_count": 12,
   "metadata": {},
   "outputs": [],
   "source": [
    "def flatten_tweets(tweets_json):\n",
    "    \"\"\" Flattens out tweet dictionaries so relevant JSON\n",
    "        is in a top-level dictionary.\"\"\"\n",
    "    tweets_list = []\n",
    "    \n",
    "    # Iterate through each tweet\n",
    "    for tweet_obj in tweets_json:\n",
    "        #tweet_obj = json.loads(tweet)\n",
    "    \n",
    "        # Store the user screen name in 'user-screen_name'\n",
    "        tweet_obj['user-screen_name'] = tweet_obj['user']['screen_name']\n",
    "    \n",
    "        # Check if this is a 140+ character tweet\n",
    "        tweet_obj['extended_tweet-full_text']=''\n",
    "        if 'extended_tweet' in tweet_obj:\n",
    "            # Store the extended tweet text in 'extended_tweet-full_text'\n",
    "            tweet_obj['extended_tweet-full_text'] = tweet_obj['extended_tweet']['full_text']\n",
    "        \n",
    "        tweet_obj['retweeted_status-user-screen_name']=''\n",
    "        tweet_obj['retweeted_status-text']=''\n",
    "        tweet_obj['retweeted_status-extended_tweet-full_text']=''\n",
    "        if 'retweeted_status' in tweet_obj:\n",
    "            # Store the retweet user screen name in 'retweeted_status-user-screen_name'\n",
    "            tweet_obj['retweeted_status-user-screen_name'] = tweet_obj['retweeted_status']['user']['screen_name']\n",
    "\n",
    "            # Store the retweet text in 'retweeted_status-text'\n",
    "            tweet_obj['retweeted_status-text'] = tweet_obj['retweeted_status']['text']\n",
    "         \n",
    "            if 'extended_tweet' in tweet_obj['retweeted_status']:\n",
    "                tweet_obj['retweeted_status-extended_tweet-full_text']=tweet_obj['retweeted_status']['extended_tweet']['full_text']\n",
    "         \n",
    "        # quoted status\n",
    "        tweet_obj['quoted_status-text']=''\n",
    "        tweet_obj['quoted_status-extended_tweet-full_text']=''\n",
    "        if 'quoted_status' in tweet_obj:\n",
    "            # \n",
    "            tweet_obj['quoted_status-text'] = tweet_obj['quoted_status']['text']\n",
    "            if 'extended_tweet' in tweet_obj['quoted_status']:\n",
    "                tweet_obj['quoted_status-extended_tweet-full_text'] = tweet_obj['quoted_status']['extended_tweet']['full_text']\n",
    "            \n",
    "        tweets_list.append(tweet_obj)\n",
    "    return tweets_list\n"
   ]
  },
  {
   "cell_type": "code",
   "execution_count": 13,
   "metadata": {},
   "outputs": [
    {
     "name": "stdout",
     "output_type": "stream",
     "text": [
      "['RT @GlodeJo07: El incendio en el centro de control en el metro de la CDMX se debe al pésimo o nulo mantenimiento de los gobiernos anteriore…'\n",
      " 'RT @kataleyazi: El apoyo real hacia el presidente #AMLO  se ve en la calle, promoviendo los grandes avances de la 4T, con nuestros familiar…'\n",
      " 'RT @Mike_Oviedo: AMLO aseguró que vacuna contra corrupción está en fase 3.\\n\\nY con nuestro voto, exterminemos el TUMOR que nos sumergió en e…'\n",
      " 'RT @Vampiroperver: Loretito de mola es la cura internacional\\n\\n#RedAMLO \\n#AMLO https://t.co/ZKPmWrcwys'\n",
      " 'RT @DomadorDChairos: #AMLOEnfermoMental']\n"
     ]
    }
   ],
   "source": [
    "# Flatten the tweets and store them in `tweets`\n",
    "tweets = flatten_tweets(tweets_json)\n",
    "\n",
    "# Create a DataFrame from `tweets`\n",
    "ds_tweets_aux = pd.DataFrame(tweets)\n",
    "\n",
    "# Print out the first 5 tweets from this dataset\n",
    "print(ds_tweets_aux['text'].values[0:5])"
   ]
  },
  {
   "cell_type": "markdown",
   "metadata": {},
   "source": [
    "### Count word occurrencies"
   ]
  },
  {
   "cell_type": "markdown",
   "metadata": {},
   "source": [
    "We count the number of ocurrencies for 'AMLO' and 'Gatell' and plot them"
   ]
  },
  {
   "cell_type": "code",
   "execution_count": 14,
   "metadata": {},
   "outputs": [
    {
     "name": "stdout",
     "output_type": "stream",
     "text": [
      "Proportion of Gatell tweets: 0.04162352453924208\n"
     ]
    }
   ],
   "source": [
    "# find mentions of a word\n",
    "word='Gatell' # escribirlo en ingles\n",
    "\n",
    "word_o = ds_tweets_aux['text'].str.contains(word, case=False)\n",
    "# Print proportion of tweets mentioning that word\n",
    "print(\"Proportion of {} tweets:\".format(word),\n",
    "      np.sum(word_o) / ds_tweets_aux.shape[0])"
   ]
  },
  {
   "cell_type": "code",
   "execution_count": 15,
   "metadata": {},
   "outputs": [],
   "source": [
    "# define function to count word ocurrencies\n",
    "def check_word_in_tweet(word, data):\n",
    "    \"\"\"Checks if a word is in a Twitter dataset's text. \n",
    "    Checks text and extended tweet (140+ character tweets) for tweets,\n",
    "    retweets and quoted tweets.\n",
    "    Returns a logical pandas Series.\n",
    "    \"\"\"\n",
    "    contains_column = data['text'].str.contains(word, case = False)\n",
    "    contains_column |= data['extended_tweet-full_text'].str.contains(word, case = False)\n",
    "    contains_column |= data['quoted_status-text'].str.contains(word, case = False)\n",
    "    contains_column |= data['quoted_status-extended_tweet-full_text'].str.contains(word, case = False)\n",
    "    contains_column |= data['retweeted_status-text'].str.contains(word, case = False)\n",
    "    contains_column |= data['retweeted_status-extended_tweet-full_text'].str.contains(word, case = False)\n",
    "    return contains_column"
   ]
  },
  {
   "cell_type": "code",
   "execution_count": 16,
   "metadata": {},
   "outputs": [
    {
     "name": "stdout",
     "output_type": "stream",
     "text": [
      "Proportion of amlo tweets: 0.7007144336301512\n",
      "Proportion of gatell tweets: 0.0958790639884034\n"
     ]
    }
   ],
   "source": [
    "# Find mentions of amlo in all text fields\n",
    "amlo = check_word_in_tweet('amlo', ds_tweets_aux)\n",
    "\n",
    "# Find mentions of gatell in all text fields\n",
    "gatell = check_word_in_tweet('gatell', ds_tweets_aux)\n",
    "\n",
    "# Print proportion of tweets mentioning amlo\n",
    "print(\"Proportion of {} tweets:\".format('amlo'), np.sum(amlo) / ds_tweets_aux.shape[0])\n",
    "\n",
    "# Print proportion of tweets mentioning gatell\n",
    "print(\"Proportion of {} tweets:\".format('gatell'), np.sum(gatell) / ds_tweets_aux.shape[0])\n"
   ]
  },
  {
   "cell_type": "code",
   "execution_count": 17,
   "metadata": {},
   "outputs": [
    {
     "name": "stdout",
     "output_type": "stream",
     "text": [
      "Proportion of amlo tweets: 0.9106506088945704\n",
      "Proportion of gatell tweets: 0.12460472313799367\n"
     ]
    }
   ],
   "source": [
    "# restrict database to only tweets with any of word1 or word2\n",
    "ds_tweets = ds_tweets_aux.loc[amlo | gatell,:]\n",
    "\n",
    "# Find mentions of amlo in all text fields\n",
    "amlo = check_word_in_tweet('amlo', ds_tweets)\n",
    "\n",
    "# Find mentions of gatell in all text fields\n",
    "gatell = check_word_in_tweet('gatell', ds_tweets)\n",
    "\n",
    "# Print proportion of tweets mentioning amlo\n",
    "print(\"Proportion of {} tweets:\".format('amlo'), np.sum(amlo) / ds_tweets.shape[0])\n",
    "\n",
    "# Print proportion of tweets mentioning gatell\n",
    "print(\"Proportion of {} tweets:\".format('gatell'), np.sum(gatell) / ds_tweets.shape[0])"
   ]
  },
  {
   "cell_type": "markdown",
   "metadata": {},
   "source": [
    "Prepare for plotting"
   ]
  },
  {
   "cell_type": "code",
   "execution_count": 18,
   "metadata": {},
   "outputs": [
    {
     "name": "stdout",
     "output_type": "stream",
     "text": [
      "1    Sun Jan 10 01:32:15 +0000 2021\n",
      "2    Sun Jan 10 01:32:16 +0000 2021\n",
      "3    Sun Jan 10 01:32:16 +0000 2021\n",
      "4    Sun Jan 10 01:32:16 +0000 2021\n",
      "5    Sun Jan 10 01:32:17 +0000 2021\n",
      "Name: created_at, dtype: object\n"
     ]
    },
    {
     "name": "stderr",
     "output_type": "stream",
     "text": [
      "C:\\Users\\tino_\\Anaconda3\\lib\\site-packages\\ipykernel_launcher.py:4: SettingWithCopyWarning: \n",
      "A value is trying to be set on a copy of a slice from a DataFrame.\n",
      "Try using .loc[row_indexer,col_indexer] = value instead\n",
      "\n",
      "See the caveats in the documentation: https://pandas.pydata.org/pandas-docs/stable/user_guide/indexing.html#returning-a-view-versus-a-copy\n",
      "  after removing the cwd from sys.path.\n",
      "C:\\Users\\tino_\\Anaconda3\\lib\\site-packages\\ipykernel_launcher.py:9: SettingWithCopyWarning: \n",
      "A value is trying to be set on a copy of a slice from a DataFrame.\n",
      "Try using .loc[row_indexer,col_indexer] = value instead\n",
      "\n",
      "See the caveats in the documentation: https://pandas.pydata.org/pandas-docs/stable/user_guide/indexing.html#returning-a-view-versus-a-copy\n",
      "  if __name__ == '__main__':\n"
     ]
    },
    {
     "name": "stdout",
     "output_type": "stream",
     "text": [
      "1   2021-01-10 01:32:15+00:00\n",
      "2   2021-01-10 01:32:16+00:00\n",
      "3   2021-01-10 01:32:16+00:00\n",
      "4   2021-01-10 01:32:16+00:00\n",
      "5   2021-01-10 01:32:17+00:00\n",
      "Name: created_at, dtype: datetime64[ns, UTC]\n",
      "['2021-01-09T19:32:15.000000000' '2021-01-09T19:32:16.000000000'\n",
      " '2021-01-09T19:32:16.000000000' '2021-01-09T19:32:16.000000000'\n",
      " '2021-01-09T19:32:17.000000000']\n"
     ]
    }
   ],
   "source": [
    "# Print created_at to see the original format of datetime in Twitter data\n",
    "print(ds_tweets['created_at'].head())\n",
    "# Convert the created_at column to np.datetime object\n",
    "ds_tweets['created_at'] = pd.to_datetime(ds_tweets['created_at'])\n",
    "# Print created_at to see new format\n",
    "print(ds_tweets['created_at'].head())\n",
    "# fix the time zone gap\n",
    "d = timedelta(hours=6) # cdmx is 6 hours behind UTC\n",
    "ds_tweets['created_at'] = ds_tweets['created_at'] - d\n",
    "# Set the index of ds_tweets to created_at\n",
    "ds_tweets = ds_tweets.set_index('created_at')\n",
    "print(ds_tweets.index.values[0:5])\n",
    "# Create a word1 column\n",
    "ds_tweets['amlo'] = check_word_in_tweet('amlo', ds_tweets)\n",
    "# Create an word2 column\n",
    "ds_tweets['gatell'] = check_word_in_tweet('gatell', ds_tweets)\n",
    "# Average of word1 column by minute\n",
    "mean_amlo = ds_tweets['amlo'].resample('10 min').mean()\n",
    "# Average of rstats column by day\n",
    "mean_gatell = ds_tweets['gatell'].resample('10 min').mean()"
   ]
  },
  {
   "cell_type": "markdown",
   "metadata": {},
   "source": [
    "Now, let's plot word occurencies"
   ]
  },
  {
   "cell_type": "code",
   "execution_count": 19,
   "metadata": {
    "scrolled": false
   },
   "outputs": [
    {
     "data": {
      "image/png": "[encoded data removed]",
      "text/plain": [
       "<Figure size 432x288 with 1 Axes>"
      ]
     },
     "metadata": {
      "needs_background": "light"
     },
     "output_type": "display_data"
    }
   ],
   "source": [
    "'''\n",
    "We plot the percentage of occurencies of word1 (word2)\n",
    "respect to the total number of tweets that mention word1 or word2.\n",
    "Remember these tweets are only 1% of total real tweets in twitter.\n",
    "'''\n",
    "fig, ax = plt.subplots()\n",
    "ax.plot(mean_amlo.index.strftime(\"%H:%M\"), mean_amlo, color = 'red')\n",
    "ax.plot(mean_gatell.index.strftime(\"%H:%M\"), mean_gatell, color = 'blue')\n",
    "# add vertical line\n",
    "plt.axvline(x=pd.to_datetime('20:00').strftime(\"%H:%M\"), color='purple', linestyle='--', alpha=0.5)\n",
    "# add text\n",
    "ax.annotate('Ends tv covid conference',xytext=[pd.to_datetime('19:50').strftime(\"%H:%M\"),0.2],\n",
    "            xy=(pd.to_datetime('19:50').strftime(\"%H:%M\"),0.8),\n",
    "           rotation=90)\n",
    "# Add labels and show\n",
    "plt.xlabel('Time'); plt.ylabel('Percent')\n",
    "plt.title('AMLO/Gatell mentions over time (saturday january 9, 2021)')\n",
    "plt.legend(('AMLO', 'Gatell'))\n",
    "plt.xticks(rotation=90)\n",
    "plt.show()\n",
    "fig.savefig('amlo_gatell_mentions.png', dpi=300,bbox_inches='tight')\n"
   ]
  },
  {
   "cell_type": "markdown",
   "metadata": {},
   "source": [
    "## Sentiment Analysis"
   ]
  },
  {
   "cell_type": "markdown",
   "metadata": {},
   "source": [
    "Prepare data for Sentiment Analysis"
   ]
  },
  {
   "cell_type": "code",
   "execution_count": 20,
   "metadata": {},
   "outputs": [
    {
     "name": "stdout",
     "output_type": "stream",
     "text": [
      "1705183\n",
      "236781\n"
     ]
    }
   ],
   "source": [
    "# how many words in each category\n",
    "print(sum([len(row) for row in ds_tweets.loc[ds_tweets['amlo']==True ,'text'] ]))\n",
    "print(sum([len(row) for row in ds_tweets.loc[ds_tweets['gatell']==True ,'text'] ]))"
   ]
  },
  {
   "cell_type": "markdown",
   "metadata": {},
   "source": [
    "Owing to API translator limitations in translated words per day, we will only work with a subsample database."
   ]
  },
  {
   "cell_type": "code",
   "execution_count": 21,
   "metadata": {},
   "outputs": [
    {
     "data": {
      "text/html": [
       "<div>\n",
       "<style scoped>\n",
       "    .dataframe tbody tr th:only-of-type {\n",
       "        vertical-align: middle;\n",
       "    }\n",
       "\n",
       "    .dataframe tbody tr th {\n",
       "        vertical-align: top;\n",
       "    }\n",
       "\n",
       "    .dataframe thead th {\n",
       "        text-align: right;\n",
       "    }\n",
       "</style>\n",
       "<table border=\"1\" class=\"dataframe\">\n",
       "  <thead>\n",
       "    <tr style=\"text-align: right;\">\n",
       "      <th></th>\n",
       "      <th>text</th>\n",
       "      <th>r_num</th>\n",
       "      <th>amlo</th>\n",
       "      <th>gatell</th>\n",
       "    </tr>\n",
       "    <tr>\n",
       "      <th>created_at</th>\n",
       "      <th></th>\n",
       "      <th></th>\n",
       "      <th></th>\n",
       "      <th></th>\n",
       "    </tr>\n",
       "  </thead>\n",
       "  <tbody>\n",
       "    <tr>\n",
       "      <th>2021-01-09 20:59:24+00:00</th>\n",
       "      <td>RT @alejandroaalex: 👏👏👏😂😂😂🤣🤣🤣</td>\n",
       "      <td>0.999612</td>\n",
       "      <td>True</td>\n",
       "      <td>False</td>\n",
       "    </tr>\n",
       "    <tr>\n",
       "      <th>2021-01-09 23:03:37+00:00</th>\n",
       "      <td>RT @rochaperiodista: Dice Laura Zapata que qui...</td>\n",
       "      <td>0.999679</td>\n",
       "      <td>True</td>\n",
       "      <td>False</td>\n",
       "    </tr>\n",
       "    <tr>\n",
       "      <th>2021-01-09 21:26:35+00:00</th>\n",
       "      <td>RT @ferbelaunzaran: Para defender la democraci...</td>\n",
       "      <td>0.999936</td>\n",
       "      <td>True</td>\n",
       "      <td>False</td>\n",
       "    </tr>\n",
       "    <tr>\n",
       "      <th>2021-01-09 22:56:29+00:00</th>\n",
       "      <td>RT @guruchuirer: Facebook podría volverse una ...</td>\n",
       "      <td>0.999954</td>\n",
       "      <td>True</td>\n",
       "      <td>False</td>\n",
       "    </tr>\n",
       "    <tr>\n",
       "      <th>2021-01-09 22:55:31+00:00</th>\n",
       "      <td>RT @PonchoGutz: \"De seguro AMLO va a culpar a ...</td>\n",
       "      <td>0.999990</td>\n",
       "      <td>True</td>\n",
       "      <td>False</td>\n",
       "    </tr>\n",
       "  </tbody>\n",
       "</table>\n",
       "</div>"
      ],
      "text/plain": [
       "                                                                        text  \\\n",
       "created_at                                                                     \n",
       "2021-01-09 20:59:24+00:00                      RT @alejandroaalex: 👏👏👏😂😂😂🤣🤣🤣   \n",
       "2021-01-09 23:03:37+00:00  RT @rochaperiodista: Dice Laura Zapata que qui...   \n",
       "2021-01-09 21:26:35+00:00  RT @ferbelaunzaran: Para defender la democraci...   \n",
       "2021-01-09 22:56:29+00:00  RT @guruchuirer: Facebook podría volverse una ...   \n",
       "2021-01-09 22:55:31+00:00  RT @PonchoGutz: \"De seguro AMLO va a culpar a ...   \n",
       "\n",
       "                              r_num  amlo  gatell  \n",
       "created_at                                         \n",
       "2021-01-09 20:59:24+00:00  0.999612  True   False  \n",
       "2021-01-09 23:03:37+00:00  0.999679  True   False  \n",
       "2021-01-09 21:26:35+00:00  0.999936  True   False  \n",
       "2021-01-09 22:56:29+00:00  0.999954  True   False  \n",
       "2021-01-09 22:55:31+00:00  0.999990  True   False  "
      ]
     },
     "execution_count": 21,
     "metadata": {},
     "output_type": "execute_result"
    }
   ],
   "source": [
    "# generate random floating point values\n",
    "from random import seed\n",
    "from random import random\n",
    "# seed random number generator\n",
    "seed(1)\n",
    "# generate random numbers between 0-1\n",
    "rand_n = [random() for _ in range(ds_tweets.shape[0])]\n",
    "ds_tweets['r_num'] = rand_n\n",
    "ds_tweets.sort_values('r_num', ascending=True, inplace=True)\n",
    "ds_tweets[['text', 'r_num', 'amlo', 'gatell']].tail()"
   ]
  },
  {
   "cell_type": "code",
   "execution_count": 22,
   "metadata": {
    "scrolled": true
   },
   "outputs": [
    {
     "name": "stdout",
     "output_type": "stream",
     "text": [
      "(240, 45) (150, 45)\n",
      "                                                                        text\n",
      "created_at                                                                  \n",
      "2021-01-09 20:05:21+00:00  RT @Vampiroperver: Los del pan vienen dispuest...\n",
      "2021-01-09 21:33:44+00:00  RT @Drago237: 21. Jesús Rodríguez. “Hasta Enco...\n",
      "2021-01-09 21:16:11+00:00  Esta viejecita @LAURAZAPATAM necesita (le urge...\n",
      "2021-01-09 21:42:43+00:00  RT @Sandy_4T: 🛑El golpe maestro de AMLO y Nahl...\n",
      "2021-01-09 22:01:33+00:00  RT @econokafka: La evolución de los muertos (g...\n",
      "                                                                        text\n",
      "created_at                                                                  \n",
      "2021-01-09 21:43:43+00:00  RT @JLozanoA: Maldito criminal. Y el president...\n",
      "2021-01-09 22:38:08+00:00  RT @JLozanoA: Maldito criminal. Y el president...\n",
      "2021-01-09 19:34:15+00:00  RT @avieu: Lo bueno que no nos ha ido tan mal ...\n",
      "2021-01-09 22:49:59+00:00  RT @rincondeldepri1: 5 días seguidos con más d...\n",
      "2021-01-09 21:15:22+00:00  RT @MuySuFrida: Hugo López Gatell y la cómoda ...\n"
     ]
    }
   ],
   "source": [
    "# restrict sample\n",
    "# only X tweets for AMLO and Y tweets for gatell\n",
    "t_amlo = 240 #X\n",
    "t_gatell = 150 #Y\n",
    "ds_tweets_amlo = ds_tweets[ds_tweets['amlo']==True]\n",
    "ds_tweets_amlo = ds_tweets_amlo.iloc[0:t_amlo,]\n",
    "ds_tweets_gatell = ds_tweets[ds_tweets['gatell']==True]\n",
    "ds_tweets_gatell = ds_tweets_gatell.iloc[0:t_gatell,]\n",
    "print(ds_tweets_amlo.shape, ds_tweets_gatell.shape)\n",
    "print(ds_tweets_amlo[['text']].tail())\n",
    "print(ds_tweets_gatell[['text']].tail())"
   ]
  },
  {
   "cell_type": "code",
   "execution_count": 24,
   "metadata": {},
   "outputs": [
    {
     "name": "stdout",
     "output_type": "stream",
     "text": [
      "RT @MuySuFrida: Hugo López Gatell y la cómoda tranquilidad de vacacionar mientras llevas 132 mil muertes a cuestas. https://t.co/hw47mJdYWm\n",
      "19\n"
     ]
    }
   ],
   "source": [
    "# count number of words to translate for a single tweet\n",
    "print(ds_tweets_gatell['text'][-1])\n",
    "print(len(ds_tweets_gatell['text'][-1].split(' ')))"
   ]
  },
  {
   "cell_type": "code",
   "execution_count": 25,
   "metadata": {},
   "outputs": [
    {
     "name": "stdout",
     "output_type": "stream",
     "text": [
      "amlo  4787\n",
      "gatell  2993\n"
     ]
    }
   ],
   "source": [
    "# estimate how many words in each category\n",
    "print('amlo ',sum([len(row.split(' ')) for row in ds_tweets_amlo['text'] ]))\n",
    "print('gatell ',sum([len(row.split(' ')) for row in ds_tweets_gatell['text'] ]))"
   ]
  },
  {
   "cell_type": "markdown",
   "metadata": {},
   "source": [
    "**Translate tweets**\n",
    "\n",
    "I use [Mymemory](https://mymemory.translated.net/doc/spec.php) API to translate tweets. Note that since we are using a free account we are limited to 10,000 words per day. To translate more words (and tweets) we require a payment plan."
   ]
  },
  {
   "cell_type": "code",
   "execution_count": null,
   "metadata": {
    "scrolled": true
   },
   "outputs": [],
   "source": [
    "# IBM API\n",
    "#ibm_api_key = '_7kgUI829NH84bHPNZ_Mara3sdPGj6Q_8RQ0BKAuAZqg'\n",
    "# ID\n",
    "#ibm_id = 'ApiKey-d437acad-d8a7-4b69-a1ec-a0ddedc39e4e'\n",
    "\n",
    "# declare keys\n",
    "api_key = '04ab80d184a13a29719e'\n",
    "email = 'carretoromeroc@gmail.com'\n",
    "\n",
    "# we start translating amlo's tweets\n",
    "amlo_texts = ds_tweets_amlo['text']\n",
    "\n",
    "amlo_en = []\n",
    "i = 0\n",
    "\n",
    "for text_row in amlo_texts:\n",
    "    i += 1\n",
    "    #print(i)\n",
    "    try:\n",
    "        response = requests.get(\n",
    "            'https://api.mymemory.translated.net/get?q={}&langpair=es|en&key={}&de={}'.format(text_row,api_key,email)\n",
    "            )\n",
    "        text_en = response.json()['responseData']['translatedText']\n",
    "    except:\n",
    "        text_en = ''\n",
    "    amlo_en.append(text_en)\n",
    "     \n",
    "#amlo_en"
   ]
  },
  {
   "cell_type": "code",
   "execution_count": 103,
   "metadata": {
    "scrolled": true
   },
   "outputs": [
    {
     "data": {
      "text/html": [
       "<div>\n",
       "<style scoped>\n",
       "    .dataframe tbody tr th:only-of-type {\n",
       "        vertical-align: middle;\n",
       "    }\n",
       "\n",
       "    .dataframe tbody tr th {\n",
       "        vertical-align: top;\n",
       "    }\n",
       "\n",
       "    .dataframe thead th {\n",
       "        text-align: right;\n",
       "    }\n",
       "</style>\n",
       "<table border=\"1\" class=\"dataframe\">\n",
       "  <thead>\n",
       "    <tr style=\"text-align: right;\">\n",
       "      <th></th>\n",
       "      <th>text</th>\n",
       "      <th>amlo_text_en</th>\n",
       "    </tr>\n",
       "    <tr>\n",
       "      <th>created_at</th>\n",
       "      <th></th>\n",
       "      <th></th>\n",
       "    </tr>\n",
       "  </thead>\n",
       "  <tbody>\n",
       "    <tr>\n",
       "      <th>2021-01-09 22:44:27+00:00</th>\n",
       "      <td>RT @chioreya: Hace tiempo q la derecha golpist...</td>\n",
       "      <td>RT @chioreya: Long ago the right coupista dese...</td>\n",
       "    </tr>\n",
       "    <tr>\n",
       "      <th>2021-01-09 23:09:38+00:00</th>\n",
       "      <td>RT @chavelavaldez1: «Gracias a AMLO», trabajad...</td>\n",
       "      <td>RT @chavelavaldez1: \"Thanks to AMLO\", worker e...</td>\n",
       "    </tr>\n",
       "    <tr>\n",
       "      <th>2021-01-09 20:49:19+00:00</th>\n",
       "      <td>@aveeraaapaz @LePetraGenerala Ojala podamos te...</td>\n",
       "      <td>@aveeraaapaz @LePetraGenerala Hopefully we can...</td>\n",
       "    </tr>\n",
       "    <tr>\n",
       "      <th>2021-01-09 20:34:17+00:00</th>\n",
       "      <td>RT @AdAmozu: #AMLOEnfermoMental #GobiernoCrimi...</td>\n",
       "      <td>INVALID LANGUAGE PAIR SPECIFIED. EXAMPLE: LANG...</td>\n",
       "    </tr>\n",
       "    <tr>\n",
       "      <th>2021-01-09 20:51:08+00:00</th>\n",
       "      <td>RT @Arouet_V: Durante 2020 hubo 71 masacres en...</td>\n",
       "      <td>RT @Arouet_V: During 2020 there were 71 massac...</td>\n",
       "    </tr>\n",
       "  </tbody>\n",
       "</table>\n",
       "</div>"
      ],
      "text/plain": [
       "                                                                        text  \\\n",
       "created_at                                                                     \n",
       "2021-01-09 22:44:27+00:00  RT @chioreya: Hace tiempo q la derecha golpist...   \n",
       "2021-01-09 23:09:38+00:00  RT @chavelavaldez1: «Gracias a AMLO», trabajad...   \n",
       "2021-01-09 20:49:19+00:00  @aveeraaapaz @LePetraGenerala Ojala podamos te...   \n",
       "2021-01-09 20:34:17+00:00  RT @AdAmozu: #AMLOEnfermoMental #GobiernoCrimi...   \n",
       "2021-01-09 20:51:08+00:00  RT @Arouet_V: Durante 2020 hubo 71 masacres en...   \n",
       "\n",
       "                                                                amlo_text_en  \n",
       "created_at                                                                    \n",
       "2021-01-09 22:44:27+00:00  RT @chioreya: Long ago the right coupista dese...  \n",
       "2021-01-09 23:09:38+00:00  RT @chavelavaldez1: \"Thanks to AMLO\", worker e...  \n",
       "2021-01-09 20:49:19+00:00  @aveeraaapaz @LePetraGenerala Hopefully we can...  \n",
       "2021-01-09 20:34:17+00:00  INVALID LANGUAGE PAIR SPECIFIED. EXAMPLE: LANG...  \n",
       "2021-01-09 20:51:08+00:00  RT @Arouet_V: During 2020 there were 71 massac...  "
      ]
     },
     "execution_count": 103,
     "metadata": {},
     "output_type": "execute_result"
    }
   ],
   "source": [
    "# add translated tweets to our database\n",
    "ds_tweets_amlo['amlo_text_en'] = amlo_en\n",
    "ds_tweets_amlo[['text', 'amlo_text_en']].tail()"
   ]
  },
  {
   "cell_type": "code",
   "execution_count": null,
   "metadata": {
    "scrolled": true
   },
   "outputs": [],
   "source": [
    "# turn to gatell tweets\n",
    "\n",
    "gatell_texts = ds_tweets_gatell['text']\n",
    "\n",
    "gatell_en = []\n",
    "i = 0\n",
    "\n",
    "for text_row in gatell_texts:\n",
    "    i += 1\n",
    "    #print(i)\n",
    "    try:\n",
    "        response = requests.get(\n",
    "            'https://api.mymemory.translated.net/get?q={}&langpair=es|en&key={}&de={}'.format(text_row,api_key,email)\n",
    "            )\n",
    "        text_en = response.json()['responseData']['translatedText']\n",
    "    except:\n",
    "        text_en = ''\n",
    "    gatell_en.append(text_en)\n",
    "\n",
    "#gatell_en"
   ]
  },
  {
   "cell_type": "code",
   "execution_count": null,
   "metadata": {},
   "outputs": [],
   "source": [
    "# add translated tweets to dataframe\n",
    "ds_tweets_gatell['gatell_text_en'] = gatell_en\n",
    "ds_tweets_gatell[['text', 'gatell_text_en']].tail()"
   ]
  },
  {
   "cell_type": "markdown",
   "metadata": {},
   "source": [
    "Perform Sentiment Analysis"
   ]
  },
  {
   "cell_type": "code",
   "execution_count": 105,
   "metadata": {},
   "outputs": [
    {
     "name": "stdout",
     "output_type": "stream",
     "text": [
      "['RT @JACrespo1: La férrea defensa de Amlo a Félix Salgado M. fortalece la versión de @sabinaberman de que Palacio Nacional instruyó a Mario…'\n",
      " 'RT @AleCuore_: Estoy muy agradecida con todos mis amigos que me apoyaron para recuperar mi cuenta.\\nY si no pudiera volver haría otra, por q…'] \n",
      "\n",
      "['RT @ZebaduaCaro11: En un 70% se ha reducido el gasto en publicidad del gobierno de AMLO, por eso es el más atacado, ya no hay aplaudidores…'\n",
      " 'RT @Rockprincess818: even a third world guy in a corrupt system sees this is bad! Holy shit. \\n\\nMexican President AMLO Condemns Twitter, Fac…']\n"
     ]
    }
   ],
   "source": [
    "# Instantiate new SentimentIntensityAnalyzer\n",
    "sid = SentimentIntensityAnalyzer()\n",
    "# Generate sentiment scores\n",
    "# for simplicity we only use the 'text' column\n",
    "sentiment_scores_amlo = ds_tweets_amlo['amlo_text_en'].apply(sid.polarity_scores)\n",
    "sentiment_scores_gatell = ds_tweets_gatell['gatell_text_en'].apply(sid.polarity_scores)\n",
    "sentiment_amlo = sentiment_scores_amlo.map(lambda x:x['compound'])\n",
    "sentiment_gatell = sentiment_scores_gatell.map(lambda x:x['compound'])\n",
    "\n",
    "# Print out the text of a positive tweet\n",
    "print(ds_tweets_amlo[sentiment_amlo>0.6]['text'].values[0:2], '\\n')\n",
    "# Print out the text of a negative tweet\n",
    "print(ds_tweets_amlo[sentiment_amlo<-0.6]['text'].values[0:2])\n",
    "\n",
    "# Generate average sentiment scores for word1\n",
    "sentiment_amlo_avg = sentiment_amlo[check_word_in_tweet('amlo', ds_tweets_amlo)].resample('30 min').mean()\n",
    "# Generate average sentiment scores for word2\n",
    "sentiment_gatell_avg = sentiment_gatell[check_word_in_tweet('gatell', ds_tweets_gatell)].resample('30 min').mean()\n",
    "# contamos número de tweets\n",
    "count_amlo = sentiment_amlo[check_word_in_tweet('amlo', ds_tweets_amlo)].resample('30 min').count()\n",
    "count_gatell = sentiment_gatell[check_word_in_tweet('gatell', ds_tweets_gatell)].resample('30 min').count()"
   ]
  },
  {
   "cell_type": "code",
   "execution_count": 108,
   "metadata": {},
   "outputs": [
    {
     "data": {
      "image/png": "[encoded data removed]",
      "text/plain": [
       "<Figure size 432x288 with 2 Axes>"
      ]
     },
     "metadata": {
      "needs_background": "light"
     },
     "output_type": "display_data"
    }
   ],
   "source": [
    "# Plot average word1 and word2 sentiment per day\n",
    "fig, ax = plt.subplots(nrows=2)\n",
    "ax[0].plot(sentiment_amlo_avg.index.strftime(\"%H:%M\"), sentiment_amlo_avg, color = 'red')\n",
    "# Plot average #word2 sentiment per day\n",
    "ax[0].plot(sentiment_gatell_avg.index.strftime(\"%H:%M\"), sentiment_gatell_avg, color = 'blue')\n",
    "# ocurrencias por unidad de tiempo\n",
    "count_amlo.plot(color = 'red',\n",
    "           alpha=0.7, kind='bar', ax=ax[1])\n",
    "count_gatell.plot(color = 'blue',\n",
    "           alpha=0.7, kind='bar', ax=ax[1])\n",
    "# ticks & labels\n",
    "ax[0].set_ylabel('Sentiment')\n",
    "ax[1].set_ylabel('Tweets Count')\n",
    "ax[1].set_xlabel('Time')\n",
    "# both major and minor ticks are affected\n",
    "ax[0].tick_params(axis='x', which='both', bottom=False,\n",
    "    labelbottom=False)\n",
    "ax[1].set_xticklabels(sentiment_amlo_avg.index.strftime(\"%H:%M\"),\n",
    "                      rotation=90)\n",
    "\n",
    "# horizontal line\n",
    "ax[0].hlines(y=0, xmin=sentiment_amlo_avg.index.strftime(\"%H:%M\").min(),\n",
    "             xmax=sentiment_amlo_avg.index.strftime(\"%H:%M\").max(),\n",
    "             linestyles='dashed',\n",
    "             colors='#BAB6BA')\n",
    "# add vertical line\n",
    "ax[0].axvline(x=pd.to_datetime('20:00').strftime(\"%H:%M\"), color='gray', linestyle='--', alpha=0.5)\n",
    "\n",
    "# title and legend\n",
    "ax[0].set_title('Sentiment of AMLO vs Gatell')\n",
    "#ax[0].legend(('AMLO', 'Gatell'),bbox_to_anchor=(1.0, 0.3),\n",
    "#             numpoints=1, loc='lower left')\n",
    "handles, labels = ax[1].get_legend_handles_labels()\n",
    "labels =['AMLO', 'Gatell']\n",
    "fig.legend(handles, labels, loc=(0.88,0.5),bbox_to_anchor=(0.92, 0.45))\n",
    "\n",
    "plt.show()\n",
    "fig.savefig('sentiment_amlo_gatell.png', dpi=300,\n",
    "            bbox_inches='tight')"
   ]
  }
 ],
 "metadata": {
  "kernelspec": {
   "display_name": "Python 3",
   "language": "python",
   "name": "python3"
  },
  "language_info": {
   "codemirror_mode": {
    "name": "ipython",
    "version": 3
   },
   "file_extension": ".py",
   "mimetype": "text/x-python",
   "name": "python",
   "nbconvert_exporter": "python",
   "pygments_lexer": "ipython3",
   "version": "3.6.5"
  }
 },
 "nbformat": 4,
 "nbformat_minor": 4
}
